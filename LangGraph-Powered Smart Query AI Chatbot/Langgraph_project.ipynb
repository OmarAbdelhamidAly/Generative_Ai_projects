{
  "cells": [
    {
      "cell_type": "code",
      "execution_count": 1,
      "metadata": {
        "id": "7nby_Ijb4iDe"
      },
      "outputs": [],
      "source": [
        "from typing import Annotated\n",
        "from typing_extensions import TypedDict"
      ]
    },
    {
      "cell_type": "code",
      "execution_count": 2,
      "metadata": {
        "id": "zXI3qaom5a03"
      },
      "outputs": [],
      "source": [
        "from langchain_community.utilities import (\n",
        "    arxiv, \n",
        "    wikipedia, \n",
        "    duckduckgo_search\n",
        ")\n",
        "\n",
        "from langchain_community.tools import (\n",
        "    ArxivQueryRun, \n",
        "    WikipediaQueryRun, \n",
        "    DuckDuckGoSearchRun\n",
        ")\n",
        "\n",
        "## Setting Up Tools\n",
        "\n",
        "# 1. Arxiv Research Tool\n",
        "arxiv_tool = ArxivQueryRun(api_wrapper=arxiv.ArxivAPIWrapper())\n",
        "\n",
        "# 2. Wikipedia Search Tool\n",
        "wiki_tool = WikipediaQueryRun(api_wrapper=wikipedia.WikipediaAPIWrapper())\n",
        "\n",
        "# 3. DuckDuckGo Search\n",
        "duckduckgo_tool = DuckDuckGoSearchRun(api_wrapper=duckduckgo_search.DuckDuckGoSearchAPIWrapper())\n"
      ]
    },
    {
      "cell_type": "code",
      "execution_count": 3,
      "metadata": {},
      "outputs": [
        {
          "name": "stdout",
          "output_type": "stream",
          "text": [
            "['Any', 'REMOVED', 'TYPE_CHECKING', '__all__', '__builtins__', '__cached__', '__doc__', '__file__', '__getattr__', '__loader__', '__name__', '__package__', '__path__', '__spec__', '_module_lookup', 'arxiv', 'duckduckgo_search', 'importlib', 'wikipedia']\n"
          ]
        }
      ],
      "source": [
        "from langchain_community import utilities\n",
        "print(dir(utilities))\n"
      ]
    },
    {
      "cell_type": "code",
      "execution_count": 4,
      "metadata": {},
      "outputs": [
        {
          "data": {
            "text/plain": [
              "'Page: Shah Rukh Khan\\nSummary: Shah Rukh Khan (pronounced [ˈʃaːɦɾʊx xäːn] ; born 2 November 1965), also known by the initialism SRK, is an Indian actor and film producer who works in Hindi cinema. Referred to in the media as the \"Baadshah of Bollywood\" and \"King Khan\", he has appeared in more than 100 films, and earned numerous accolades, including 14 Filmfare Awards. He has been awarded the Padma Shri by the Government of India, as well as the Order of Arts and Letters and Legion of Honour by the Government of France. Khan has a significant following in Asia and the Indian diaspora worldwide. In terms of audience size and income, several media outlets have described him as one of the most successful film stars in the world. Many of his films thematise Indian national identity and connections with diaspora communities, or gender, racial, social and religious differences and grievances.\\nKhan began his career with appearances in several television series in the late 1980s and made his Bollywood debut in 1992 with the musical romance Deewana. He was initially recognised for playing villainous roles in the films Baazigar (1993) and Darr (1993). Khan established himself by starring in a series of top-grossing romantic films, including Dilwale Dulhania Le Jayenge (1995), Dil To Pagal Hai (1997), Kuch Kuch Hota Hai (1998), Mohabbatein (2000), Kabhi Khushi Kabhie Gham... (2001), Kal Ho Naa Ho (2003), Veer-Zaara (2004) and Kabhi Alvida Naa Kehna (2006). He earned critical acclaim for his portrayal of an alcoholic in the period romantic drama Devdas (2002), a NASA scientist in the social drama Swades (2004), a hockey coach in the sports drama Chak De! India (2007), and a man with Asperger syndrome in the drama My Name Is Khan (2010). Further commercial successes came with the romances Om Shanti Om (2007) and Rab Ne Bana Di Jodi (2008), and with his expansion to comedies in Chennai Express (2013) and Happy New Year (2014). Following a brief setback and hiatus, Khan made a career comeback with the 2023 action thrillers Pathaan and Jawan, both of which rank among the highest-grossing Indian films.\\nAs of 2015, Khan is co-chairman of the motion picture production company Red Chillies Entertainment and its subsidiaries and is the co-owner of the Indian Premier League cricket team Kolkata Knight Riders and the Caribbean Premier League team Trinbago Knight Riders. The media often label him as \"Brand SRK\" because of his many endorsements and entrepreneurship ventures. He is a frequent television presenter and stage show performer. Khan\\'s philanthropic endeavours have provided health care and disaster relief, and he was honoured with UNESCO\\'s Pyramide con Marni award in 2011 for his support of children\\'s education and the World Economic Forum\\'s Crystal Award in 2018 for advocating for women\\'s and children\\'s rights in India. He regularly features in listings of the most influential people in Indian culture, and in 2008, Newsweek named him one of their fifty most powerful people in the world. In 2022, Khan was voted one of the 50 greatest actors of all time in a readers\\' poll by Empire, and in 2023, Time named him as one of the most influential people in the world.\\n\\nPage: Sheetal Sharma\\nSummary: Sheetal Iqbal Sharma (born 1 June 1984) is an Indian fashion and costume designer, who works in Hindi and Telugu films. He is known for his works in films like Miss Lovely, Airlift, Manto, Judgementall Hai Kya, Gangubai Kathiawadi and Sita Ramam. He was awarded the Filmfare Award for Best Costume Design in 2019 for the film Manto (2018), and was nominated for the same award for Judgementall Hai Kya (2019).\\n\\nPage: Dinesh Prabhakar\\nSummary: Dinesh Prabhakar, also known by his birth name Dinesh Nair, is an Indian actor who predominantly appears in Malayalam films.\\n\\n'"
            ]
          },
          "execution_count": 4,
          "metadata": {},
          "output_type": "execute_result"
        }
      ],
      "source": [
        "wiki_tool.invoke(\"who is Sharukh Khan\")"
      ]
    },
    {
      "cell_type": "code",
      "execution_count": 5,
      "metadata": {
        "colab": {
          "base_uri": "https://localhost:8080/",
          "height": 70
        },
        "id": "BdE09N5-5xCz",
        "outputId": "23a3c122-7bea-4668-a7bd-6f630df64dd2"
      },
      "outputs": [],
      "source": [
        "# duckduckgo_tool.invoke(\"who is Sharukh Khan\")"
      ]
    },
    {
      "cell_type": "code",
      "execution_count": 6,
      "metadata": {},
      "outputs": [
        {
          "data": {
            "text/plain": [
              "\"Published: 2024-07-22\\nTitle: Attention Is All You Need But You Don't Need All Of It For Inference of Large Language Models\\nAuthors: Georgy Tyukin, Gbetondji J-S Dovonon, Jean Kaddour, Pasquale Minervini\\nSummary: The inference demand for LLMs has skyrocketed in recent months, and serving\\nmodels with low latencies remains challenging due to the quadratic input length\\ncomplexity of the attention layers. In this work, we investigate the effect of\\ndropping MLP and attention layers at inference time on the performance of\\nLlama-v2 models. We find that dropping dreeper attention layers only marginally\\ndecreases performance but leads to the best speedups alongside dropping entire\\nlayers. For example, removing 33\\\\% of attention layers in a 13B Llama2 model\\nresults in a 1.8\\\\% drop in average performance over the OpenLLM benchmark. We\\nalso observe that skipping layers except the latter layers reduces performances\\nfor more layers skipped, except for skipping the attention layers.\\n\\nPublished: 2021-07-16\\nTitle: All the attention you need: Global-local, spatial-channel attention for image retrieval\\nAuthors: Chull Hwan Song, Hye Joo Han, Yannis Avrithis\\nSummary: We address representation learning for large-scale instance-level image\\nretrieval. Apart from backbone, training pipelines and loss functions, popular\\napproaches have focused on different spatial pooling and attention mechanisms,\\nwhich are at the core of learning a powerful global image representation. There\\nare different forms of attention according to the interaction of elements of\\nthe feature tensor (local and global) and the dimensions where it is applied\\n(spatial and channel). Unfortunately, each study addresses only one or two\\nforms of attention and applies it to different problems like classification,\\ndetection or retrieval.\\n  We present global-local attention module (GLAM), which is attached at the end\\nof a backbone network and incorporates all four forms of attention: local and\\nglobal, spatial and channel. We obtain a new feature tensor and, by spatial\\npooling, we learn a powerful embedding for image retrieval. Focusing on global\\ndescriptors, we provide empirical evidence of the interaction of all forms of\\nattention and improve the state of the art on standard benchmarks.\\n\\nPublished: 2023-06-02\\nTitle: RITA: Group Attention is All You Need for Timeseries Analytics\\nAuthors: Jiaming Liang, Lei Cao, Samuel Madden, Zachary Ives, Guoliang Li\\nSummary: Timeseries analytics is of great importance in many real-world applications.\\nRecently, the Transformer model, popular in natural language processing, has\\nbeen leveraged to learn high quality feature embeddings from timeseries, core\\nto the performance of various timeseries analytics tasks. However, the\\nquadratic time and space complexities limit Transformers' scalability,\\nespecially for long timeseries. To address these issues, we develop a\\ntimeseries analytics tool, RITA, which uses a novel attention mechanism, named\\ngroup attention, to address this scalability issue. Group attention dynamically\\nclusters the objects based on their similarity into a small number of groups\\nand approximately computes the attention at the coarse group granularity. It\\nthus significantly reduces the time and space complexity, yet provides a\\ntheoretical guarantee on the quality of the computed attention. The dynamic\\nscheduler of RITA continuously adapts the number of groups and the batch size\\nin the training process, ensuring group attention always uses the fewest groups\\nneeded to meet the approximation quality requirement. Extensive experiments on\\nvarious timeseries datasets and analytics tasks demonstrate that RITA\\noutperforms the state-of-the-art in accuracy and is significantly faster --\\nwith speedups of up to 63X.\""
            ]
          },
          "execution_count": 6,
          "metadata": {},
          "output_type": "execute_result"
        }
      ],
      "source": [
        "arxiv_tool.invoke(\"Attention is all you need\")"
      ]
    },
    {
      "cell_type": "code",
      "execution_count": 7,
      "metadata": {},
      "outputs": [],
      "source": [
        "## List of All Tools\n",
        "tools = [\n",
        "    arxiv_tool\n",
        "]"
      ]
    },
    {
      "cell_type": "code",
      "execution_count": 8,
      "metadata": {
        "id": "eC6q3tTg6slO"
      },
      "outputs": [],
      "source": [
        "## Langgraph Application\n",
        "from langgraph.graph.message import add_messages\n",
        "class State(TypedDict):\n",
        "  messages:Annotated[list,add_messages]"
      ]
    },
    {
      "cell_type": "code",
      "execution_count": 9,
      "metadata": {
        "id": "iXiurpCm7AWz"
      },
      "outputs": [],
      "source": [
        "from langgraph.graph import StateGraph,START,END"
      ]
    },
    {
      "cell_type": "code",
      "execution_count": 10,
      "metadata": {
        "id": "X9nAxTc17JNh"
      },
      "outputs": [],
      "source": [
        "graph_builder= StateGraph(State)\n"
      ]
    },
    {
      "cell_type": "code",
      "execution_count": 11,
      "metadata": {},
      "outputs": [],
      "source": [
        "from langchain_groq import ChatGroq\n",
        "import os\n",
        "from dotenv import load_dotenv\n",
        "\n",
        "load_dotenv()\n",
        "groq_api_key = os.getenv(\"GROQ_API_KEY\")\n",
        "langsmith=os.getenv('LANGCHAIN_API_KEY')"
      ]
    },
    {
      "cell_type": "code",
      "execution_count": null,
      "metadata": {
        "colab": {
          "base_uri": "https://localhost:8080/"
        },
        "id": "63tR5KIk7Zyd",
        "outputId": "a027ab06-88d5-4f7d-f119-8eefdd79a37e"
      },
      "outputs": [
        {
          "data": {
            "text/plain": [
              "ChatGroq(client=<groq.resources.chat.completions.Completions object at 0x000001B07C4E4C70>, async_client=<groq.resources.chat.completions.AsyncCompletions object at 0x000001B07C4E5930>, temperature=1e-08, model_kwargs={}, groq_api_key=SecretStr('**********'))"
            ]
          },
          "execution_count": 12,
          "metadata": {},
          "output_type": "execute_result"
        }
      ],
      "source": [
        "llm = ChatGroq(groq_api_key=groq_api_key, model=\"mixtral-8x7b-32768\",temperature=0)\n",
        "llm"
      ]
    },
    {
      "cell_type": "code",
      "execution_count": 13,
      "metadata": {
        "id": "HS2TyqvY8BcL"
      },
      "outputs": [],
      "source": [
        "llm_with_tools=llm.bind_tools(tools=tools)"
      ]
    },
    {
      "cell_type": "code",
      "execution_count": 14,
      "metadata": {
        "id": "uhh-mYKn7sPU"
      },
      "outputs": [],
      "source": [
        "def chatbot(state:State):\n",
        "  return {\"messages\":[llm_with_tools.invoke(state[\"messages\"])]}"
      ]
    },
    {
      "cell_type": "code",
      "execution_count": 15,
      "metadata": {
        "id": "81qlR2Kl8uZL"
      },
      "outputs": [],
      "source": [
        "from langgraph.prebuilt import ToolNode,tools_condition"
      ]
    },
    {
      "cell_type": "code",
      "execution_count": 16,
      "metadata": {
        "id": "3prnJx4M8YLF"
      },
      "outputs": [],
      "source": [
        "## 🔹 Add Chatbot Node\n",
        "graph_builder.add_node(\"chatbot\", chatbot)\n",
        "\n",
        "## 🔹 Add Tool Execution Node (Handles External Queries)\n",
        "tool_node = ToolNode(tools=tools)\n",
        "graph_builder.add_node(\"tools\", tool_node)\n",
        "\n",
        "## 🔹 Sentiment Analyzer (Detects user intent & mood)\n",
        "def sentiment_analyzer(data):\n",
        "    \"\"\"Detects user sentiment before deciding response strategy.\"\"\"\n",
        "    print(f\"🔹 Analyzing sentiment for: {data['messages'][-1].content}\")\n",
        "    \n",
        "    sentiment = \"neutral\"  # (Mocked sentiment analysis)\n",
        "    if \"angry\" in data[\"messages\"][-1].content:\n",
        "        sentiment = \"negative\"\n",
        "    elif \"excited\" in data[\"messages\"][-1].content:\n",
        "        sentiment = \"positive\"\n",
        "    \n",
        "    return {\"sentiment\": sentiment, \"messages\": [HumanMessage(content=f\"Detected sentiment: {sentiment}\")]}\n",
        "    \n",
        "graph_builder.add_node(\"sentiment_analyzer\", sentiment_analyzer)\n",
        "\n",
        "## 🔹 Memory Retrieval (Checks past interactions)\n",
        "def memory_retriever(data):\n",
        "    \"\"\"Fetches stored conversation history.\"\"\"\n",
        "    print(\"🔹 Retrieving past conversation context...\")\n",
        "    \n",
        "    return {\n",
        "        \"conversation_history\": \"Previously discussed topics: AI & ML\",\n",
        "        \"messages\": [HumanMessage(content=\"Memory loaded.\")],  # ✅ Use HumanMessage\n",
        "    }\n",
        "graph_builder.add_node(\"memory_retriever\", memory_retriever)\n",
        "\n",
        "## 🔹 Query Expander (Refines user search requests)\n",
        "def query_expander(data):\n",
        "    user_input = data[\"messages\"][-1].content\n",
        "    expanded_query = llm.predict(f\"Rewrite this search query in a more detailed way: {user_input}\")\n",
        "\n",
        "    return {\"expanded_query\": expanded_query, \"messages\": [HumanMessage(content=f\"Searching for: {expanded_query}\")]}\n",
        "\n",
        "graph_builder.add_node(\"query_expander\", query_expander)\n",
        "\n",
        "\n",
        "## 🔹 Multi-Tool Execution (Runs multiple tools in parallel)\n",
        "def multi_tool_executor(data):\n",
        "    query = data.get(\"expanded_query\", \"default query\")  # ✅ Prevents KeyError\n",
        "    print(f\"🔹 Executing tools in parallel for: {query}\")\n",
        "    \n",
        "    results = {}\n",
        "    for tool in tools:\n",
        "        try:\n",
        "            results[tool.name] = tool.run(query)\n",
        "        except Exception as e:\n",
        "            results[tool.name] = f\"Tool failed: {e}\"\n",
        "\n",
        "    return {\"tool_results\": results, \"messages\": [HumanMessage(content=\"Fetched data from all sources.\")]}\n",
        "\n",
        "graph_builder.add_node(\"multi_tool_executor\", multi_tool_executor)\n",
        "\n",
        "## 🔹 Verifier (Validates AI-generated outputs)\n",
        "def verifier(data):\n",
        "    verified_data = data.get(\"tool_results\", \"No tool results available\")\n",
        "    return {\"verified_output\": f\"Verified: {verified_data}\", \"messages\": [HumanMessage(content=\"Data verification completed.\")]}\n",
        "\n",
        "graph_builder.add_node(\"verifier\", verifier)\n",
        "\n",
        "## 🔹 Conversation Logger (Logs all interactions)\n",
        "def conversation_logger(data):\n",
        "    \"\"\"Stores all chatbot interactions for analysis.\"\"\"\n",
        "    print(f\"🔹 Logging conversation: {data['messages'][-1].content}\")\n",
        "    \n",
        "    return {\"log_status\": \"Conversation stored\", \"messages\": [HumanMessage(content=\"Your conversation has been saved.\")]}\n",
        "\n",
        "graph_builder.add_node(\"conversation_logger\", conversation_logger)\n",
        "\n",
        "## 🔹 Feedback Handler (Improves responses)\n",
        "def feedback_handler(data):\n",
        "    \"\"\"Allows user to provide feedback for improvement.\"\"\"\n",
        "    print(f\"🔹 Processing feedback: {data['messages'][-1].content}\")\n",
        "    \n",
        "    return {\"feedback_response\": \"Thanks for your feedback!\", \"messages\": [HumanMessage(content=\"Feedback received, improving AI accuracy.\")]}\n",
        "\n",
        "graph_builder.add_node(\"feedback_handler\", feedback_handler)\n",
        "\n",
        "## 🔹 Define Conditional Routing (Smart Decision-Making)\n",
        "def chatbot_routing(data):\n",
        "    \"\"\"Routes user input based on detected intent & past memory.\"\"\"\n",
        "    \n",
        "    user_input = data[\"messages\"][-1].content.lower()\n",
        "    sentiment = data.get(\"sentiment\", \"neutral\")\n",
        "\n",
        "    if \"search\" in user_input or \"lookup\" in user_input:\n",
        "        return \"query_expander\"\n",
        "    elif \"analyze\" in user_input or \"process\" in user_input:\n",
        "        return \"memory_retriever\"\n",
        "    elif \"summarize\" in user_input:\n",
        "        return \"multi_tool_executor\"\n",
        "    elif \"verify\" in user_input:\n",
        "        return \"verifier\"\n",
        "    elif \"feedback\" in user_input:\n",
        "        return \"feedback_handler\"\n",
        "    elif sentiment == \"negative\":\n",
        "        return \"conversation_logger\"\n",
        "    else:\n",
        "        return \"tools\"\n",
        "\n",
        "graph_builder.add_conditional_edges(\"chatbot\", chatbot_routing)\n",
        "\n",
        "## 🔹 Define Advanced Data Flow\n",
        "graph_builder.add_edge(\"sentiment_analyzer\", \"chatbot\")  # ✅ Sentiment influences AI's response\n",
        "graph_builder.add_edge(\"memory_retriever\", \"chatbot\")  # ✅ Retrieves past conversation data\n",
        "graph_builder.add_edge(\"query_expander\", \"multi_tool_executor\")  # ✅ Expands queries before search\n",
        "graph_builder.add_edge(\"multi_tool_executor\", \"verifier\")  # ✅ Validates tool-generated data\n",
        "graph_builder.add_edge(\"verifier\", \"chatbot\")  # ✅ Returns verified responses\n",
        "graph_builder.add_edge(\"feedback_handler\", \"chatbot\")  # ✅ Allows feedback-based improvements\n",
        "graph_builder.add_edge(\"conversation_logger\", \"chatbot\")  # ✅ Stores conversations for training\n",
        "graph_builder.add_edge(\"tools\", \"chatbot\")  # ✅ Standard tool-based response\n",
        "graph_builder.add_edge(START, \"chatbot\")  # ✅ Start execution at chatbot\n",
        "\n",
        "## 🔹 Compile the Graph\n",
        "compiled_graph = graph_builder.compile()\n"
      ]
    },
    {
      "cell_type": "code",
      "execution_count": 17,
      "metadata": {
        "id": "q1ztKyS79-YE"
      },
      "outputs": [],
      "source": [
        "graph=graph_builder.compile()"
      ]
    },
    {
      "cell_type": "code",
      "execution_count": 18,
      "metadata": {
        "colab": {
          "base_uri": "https://localhost:8080/",
          "height": 236
        },
        "id": "bg6et4vC-B_Y",
        "outputId": "0a887337-8b74-4cb9-adfd-3ab7abc47900"
      },
      "outputs": [
        {
          "data": {
            "image/png": "[encoded data removed]",
            "text/plain": [
              "<IPython.core.display.Image object>"
            ]
          },
          "metadata": {},
          "output_type": "display_data"
        }
      ],
      "source": [
        "from IPython.display import Image, display\n",
        "\n",
        "\n",
        "display(Image(graph.get_graph().draw_mermaid_png()))\n"
      ]
    },
    {
      "cell_type": "code",
      "execution_count": 26,
      "metadata": {
        "colab": {
          "base_uri": "https://localhost:8080/"
        },
        "id": "_1M_0ihg-OK3",
        "outputId": "1cd34556-05a4-4bec-d20e-945fe3c46a44"
      },
      "outputs": [
        {
          "name": "stdout",
          "output_type": "stream",
          "text": [
            "\n",
            "==================================================\n",
            "🧠 **Chatbot Conversation:**\n",
            "\n",
            "💡 **AI Response:** Hi there! What is RLHF?\n",
            "\n",
            "💡 **AI Response:** Published: 2024-07-15\n",
            "Title: Exploration-Driven Policy Optimization in RLHF: Theoretical Insights on Efficient Data Utilization\n",
            "Authors: Yihan Du, Anna Winnicki, Gal Dalal, Shie Mannor, R. Srikant\n",
            "Summary: Reinforcement Learning from Human Feedback (RLHF) has achieved impressive\n",
            "empirical successes while relying on a small amount of human feedback. However,\n",
            "there is limited theoretical justification for this phenomenon. Additionally,\n",
            "most recent studies focus on value-based algorithms despite the recent\n",
            "empirical successes of policy-based algorithms. In this work, we consider an\n",
            "RLHF algorithm based on policy optimization (PO-RLHF). The algorithm is based\n",
            "on the popular Policy Cover-Policy Gradient (PC-PG) algorithm, which assumes\n",
            "knowledge of the reward function. In PO-RLHF, knowledge of the reward function\n",
            "is not assumed, and the algorithm uses trajectory-based comparison feedback to\n",
            "infer the reward function. We provide performance bounds for PO-RLHF with low\n",
            "query complexity, which provides insight into why a small amount of human\n",
            "feedback may be sufficient to achieve good performance with RLHF. A key novelty\n",
            "is a trajectory-level elliptical potential analysis, which bounds the reward\n",
            "estimation error when comparison feedback (rather than numerical reward\n",
            "observation) is given. We provide and analyze algorithms PG-RLHF and NN-PG-RLHF\n",
            "for two settings: linear and neural function approximation, respectively.\n",
            "\n",
            "Published: 2024-10-21\n",
            "Title: Understanding and Alleviating Memory Consumption in RLHF for LLMs\n",
            "Authors: Jin Zhou, Hanmei Yang, Steven, Tang, Mingcan Xiang, Hui Guan, Tongping Liu\n",
            "Summary: Fine-tuning with Reinforcement Learning with Human Feedback (RLHF) is\n",
            "essential for aligning large language models (LLMs). However, RLHF often\n",
            "encounters significant memory challenges. This study is the first to examine\n",
            "memory usage in the RLHF context, exploring various memory management\n",
            "strategies and unveiling the reasons behind excessive memory consumption.\n",
            "Additionally, we introduce a simple yet effective approach that substantially\n",
            "reduces the memory required for RLHF fine-tuning.\n",
            "\n",
            "Published: 2025-02-11\n",
            "Title: Sharp Analysis for KL-Regularized Contextual Bandits and RLHF\n",
            "Authors: Heyang Zhao, Chenlu Ye, Quanquan Gu, Tong Zhang\n",
            "Summary: Reverse-Kullback-Leibler (KL) regularization has emerged to be a predominant\n",
            "technique used to enhance policy optimization in reinforcement learning (RL)\n",
            "and reinforcement learning from human feedback (RLHF), which forces the learned\n",
            "policy to stay close to a reference policy. While the effectiveness and\n",
            "necessity of KL-regularization have been empirically demonstrated in various\n",
            "practical scenarios, current theoretical analysis of KL-regularized RLHF still\n",
            "obtains the same $\\mathcal{O}(1 / \\epsilon^2)$ sample complexity as problems\n",
            "without KL-regularization. To understand the fundamental distinction between\n",
            "policy learning objectives with KL-regularization and ones without\n",
            "KL-regularization, we are the first to theoretically demonstrate the power of\n",
            "KL-regularization by providing a sharp analysis for KL-regularized contextual\n",
            "bandits and RLHF, revealing an $\\mathcal{O}(1 / \\epsilon)$ sample complexity\n",
            "when $\\epsilon$ is sufficiently small.\n",
            "  We further explore the role of data coverage in contextual bandits and RLHF.\n",
            "While the coverage assumption is commonly employed in offline RLHF to link the\n",
            "samples from the reference policy to the optimal policy, often at the cost of a\n",
            "multiplicative dependence on the coverage coefficient, its impact on the sample\n",
            "complexity of online RLHF remains unclear. Previous theoretical analyses of\n",
            "online RLHF typically require explicit exploration and additional structural\n",
            "assumptions on the reward function class. In contrast, we show that with\n",
            "sufficient coverage from the reference policy, a simple two-stage mixed\n",
            "sampling strategy can achieve a sample complexity with only an additive\n",
            "dependence on the coverage coefficient. Our results provide a comprehensive\n",
            "understa\n",
            "\n",
            "💡 **AI Response:** Reinforcement Learning from Human Feedback (RLHF) is a method that has achieved impressive empirical successes while relying on a small amount of human feedback. However, there is limited theoretical justification for this phenomenon. A study from 2024 provides performance bounds for an RLHF algorithm based on policy optimization (PO-RLHF), which uses trajectory-based comparison feedback to infer the reward function. This study shows that a small amount of human feedback may be sufficient to achieve good performance with RLHF.\n",
            "\n",
            "Another study from 2024 examines memory usage in the RLHF context and introduces a simple approach to substantially reduce the memory required for RLHF fine-tuning.\n",
            "\n",
            "A study from 2025 provides a sharp analysis for KL-regularized contextual bandits and RLHF, revealing an O(1/ϵ) sample complexity when ϵ is sufficiently small. This study also explores the role of data coverage in contextual bandits and RLHF, showing that with sufficient coverage from the reference policy, a simple two-stage mixed sampling strategy can achieve a sample complexity with only an additive dependence on the coverage coefficient.\n",
            "\n",
            "🔹 Processing feedback: Reinforcement Learning from Human Feedback (RLHF) is a method that has achieved impressive empirical successes while relying on a small amount of human feedback. However, there is limited theoretical justification for this phenomenon. A study from 2024 provides performance bounds for an RLHF algorithm based on policy optimization (PO-RLHF), which uses trajectory-based comparison feedback to infer the reward function. This study shows that a small amount of human feedback may be sufficient to achieve good performance with RLHF.\n",
            "\n",
            "Another study from 2024 examines memory usage in the RLHF context and introduces a simple approach to substantially reduce the memory required for RLHF fine-tuning.\n",
            "\n",
            "A study from 2025 provides a sharp analysis for KL-regularized contextual bandits and RLHF, revealing an O(1/ϵ) sample complexity when ϵ is sufficiently small. This study also explores the role of data coverage in contextual bandits and RLHF, showing that with sufficient coverage from the reference policy, a simple two-stage mixed sampling strategy can achieve a sample complexity with only an additive dependence on the coverage coefficient.\n",
            "💡 **AI Response:** Feedback received, improving AI accuracy.\n",
            "\n",
            "✅ **Final response detected. Stopping execution.**\n",
            "==================================================\n"
          ]
        }
      ],
      "source": [
        "from langchain.schema import HumanMessage\n",
        "\n",
        "# 🔹 User Input\n",
        "user_input = \"Hi there! What is RLHF?\"\n",
        "max_iterations = 5  # ✅ Prevent looping by setting a limit\n",
        "\n",
        "# 🔹 Run LangGraph with user input\n",
        "events = graph.stream(\n",
        "    {\"messages\": [HumanMessage(content=user_input)], \"iteration_count\": 0},  \n",
        "    stream_mode=\"values\"\n",
        ")\n",
        "\n",
        "iteration = 0  # ✅ Track iterations\n",
        "final_keywords = [\"Goodbye\", \"End of conversation\", \"Session ended\", \"Feedback received\"]  # ✅ Stop on feedback\n",
        "\n",
        "# 🔹 Print Each Event's Output (Enhanced Formatting)\n",
        "print(\"\\n\" + \"=\" * 50)  \n",
        "print(\"🧠 **Chatbot Conversation:**\\n\")\n",
        "\n",
        "for event in events:\n",
        "    if \"messages\" in event:\n",
        "        last_message = event[\"messages\"][-1].content  \n",
        "\n",
        "        # ✅ Stop processing if response is empty\n",
        "        if not last_message.strip():\n",
        "            continue  \n",
        "\n",
        "        # ✅ Detect multi-page summaries\n",
        "        if \"Page:\" in last_message:\n",
        "            print(\"\\n🔹 **Detailed Information Retrieved:**\\n\")\n",
        "            pages = last_message.split(\"Page:\")  \n",
        "            for page in pages[1:]:  \n",
        "                lines = page.strip().split(\"\\n\")\n",
        "                title = lines[0].strip()\n",
        "                summary = \"\\n\".join(lines[1:]).strip()\n",
        "                print(f\"📌 **{title}**\\n{summary}\\n\")\n",
        "                print(\"-\" * 40)  \n",
        "\n",
        "        else:\n",
        "            print(f\"💡 **AI Response:** {last_message}\\n\")  \n",
        "\n",
        "        # ✅ Stop if max iterations are reached\n",
        "        iteration += 1\n",
        "        if iteration >= max_iterations:\n",
        "            print(\"🛑 **Max iterations reached. Stopping execution.**\")\n",
        "            break  \n",
        "\n",
        "        # ✅ Stop if the bot reaches a final response\n",
        "        if any(phrase in last_message for phrase in final_keywords):\n",
        "            print(\"✅ **Final response detected. Stopping execution.**\")\n",
        "            break  \n",
        "\n",
        "print(\"=\" * 50)  \n"
      ]
    },
    {
      "cell_type": "code",
      "execution_count": 24,
      "metadata": {},
      "outputs": [
        {
          "ename": "AttributeError",
          "evalue": "Can't pickle local object '_add_messages_wrapper.<locals>._add_messages'",
          "output_type": "error",
          "traceback": [
            "\u001b[1;31m---------------------------------------------------------------------------\u001b[0m",
            "\u001b[1;31mAttributeError\u001b[0m                            Traceback (most recent call last)",
            "Cell \u001b[1;32mIn[24], line 5\u001b[0m\n\u001b[0;32m      3\u001b[0m \u001b[38;5;66;03m# ✅ Save the graph structure (before compiling)\u001b[39;00m\n\u001b[0;32m      4\u001b[0m \u001b[38;5;28;01mwith\u001b[39;00m \u001b[38;5;28mopen\u001b[39m(\u001b[38;5;124m\"\u001b[39m\u001b[38;5;124mgraph.pkl\u001b[39m\u001b[38;5;124m\"\u001b[39m, \u001b[38;5;124m\"\u001b[39m\u001b[38;5;124mwb\u001b[39m\u001b[38;5;124m\"\u001b[39m) \u001b[38;5;28;01mas\u001b[39;00m f:\n\u001b[1;32m----> 5\u001b[0m     \u001b[43mpickle\u001b[49m\u001b[38;5;241;43m.\u001b[39;49m\u001b[43mdump\u001b[49m\u001b[43m(\u001b[49m\u001b[43mgraph_builder\u001b[49m\u001b[43m,\u001b[49m\u001b[43m \u001b[49m\u001b[43mf\u001b[49m\u001b[43m)\u001b[49m\n\u001b[0;32m      7\u001b[0m \u001b[38;5;28mprint\u001b[39m(\u001b[38;5;124m\"\u001b[39m\u001b[38;5;124m✅ Graph structure saved successfully!\u001b[39m\u001b[38;5;124m\"\u001b[39m)\n",
            "\u001b[1;31mAttributeError\u001b[0m: Can't pickle local object '_add_messages_wrapper.<locals>._add_messages'"
          ]
        }
      ],
      "source": [
        "import pickle\n",
        "\n",
        "# ✅ Save the graph structure (before compiling)\n",
        "with open(\"graph.pkl\", \"wb\") as f:\n",
        "    pickle.dump(graph_builder, f)\n",
        "\n",
        "print(\"✅ Graph structure saved successfully!\")\n"
      ]
    }
  ],
  "metadata": {
    "accelerator": "GPU",
    "colab": {
      "gpuType": "L4",
      "machine_shape": "hm",
      "provenance": []
    },
    "kernelspec": {
      "display_name": "Python 3",
      "name": "python3"
    },
    "language_info": {
      "codemirror_mode": {
        "name": "ipython",
        "version": 3
      },
      "file_extension": ".py",
      "mimetype": "text/x-python",
      "name": "python",
      "nbconvert_exporter": "python",
      "pygments_lexer": "ipython3",
      "version": "3.10.15"
    }
  },
  "nbformat": 4,
  "nbformat_minor": 0
}
